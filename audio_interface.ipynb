{
 "cells": [
  {
   "cell_type": "code",
   "execution_count": null,
   "metadata": {},
   "outputs": [],
   "source": [
    "!pip install gradio"
   ]
  },
  {
   "cell_type": "code",
   "execution_count": null,
   "metadata": {},
   "outputs": [],
   "source": [
    "import whisper\n",
    "import gradio as gr"
   ]
  },
  {
   "cell_type": "code",
   "execution_count": null,
   "metadata": {},
   "outputs": [],
   "source": [
    "def transcribe(audio_file):\n",
    "    model = whisper.load_model('base')\n",
    "    result = model.transcribe(audio_file)\n",
    "    return result['text']"
   ]
  },
  {
   "cell_type": "code",
   "execution_count": null,
   "metadata": {},
   "outputs": [],
   "source": [
    "gr.Interface(fn=transcribe, \n",
    "            inputs=gr.Audio(sources=['microphone', 'upload'], type='filepath'), \n",
    "            outputs=[\n",
    "                'text'\n",
    "                ]).launch(debug=True)"
   ]
  },
  {
   "cell_type": "markdown",
   "metadata": {},
   "source": [
    "# RAG-QA System"
   ]
  },
  {
   "cell_type": "code",
   "execution_count": 12,
   "metadata": {},
   "outputs": [
    {
     "name": "stdout",
     "output_type": "stream",
     "text": [
      "Requirement already satisfied: chromadb==0.4.15 in c:\\users\\natha\\appdata\\local\\packages\\pythonsoftwarefoundation.python.3.10_qbz5n2kfra8p0\\localcache\\local-packages\\python310\\site-packages (0.4.15)\n",
      "Requirement already satisfied: chroma-hnswlib==0.7.3 in c:\\users\\natha\\appdata\\local\\packages\\pythonsoftwarefoundation.python.3.10_qbz5n2kfra8p0\\localcache\\local-packages\\python310\\site-packages (from chromadb==0.4.15) (0.7.3)\n",
      "Requirement already satisfied: numpy>=1.22.5 in c:\\users\\natha\\appdata\\local\\packages\\pythonsoftwarefoundation.python.3.10_qbz5n2kfra8p0\\localcache\\local-packages\\python310\\site-packages (from chromadb==0.4.15) (1.23.4)\n",
      "Requirement already satisfied: opentelemetry-sdk>=1.2.0 in c:\\users\\natha\\appdata\\local\\packages\\pythonsoftwarefoundation.python.3.10_qbz5n2kfra8p0\\localcache\\local-packages\\python310\\site-packages (from chromadb==0.4.15) (1.21.0)\n",
      "Requirement already satisfied: kubernetes>=28.1.0 in c:\\users\\natha\\appdata\\local\\packages\\pythonsoftwarefoundation.python.3.10_qbz5n2kfra8p0\\localcache\\local-packages\\python310\\site-packages (from chromadb==0.4.15) (28.1.0)\n",
      "Requirement already satisfied: tqdm>=4.65.0 in c:\\users\\natha\\appdata\\local\\packages\\pythonsoftwarefoundation.python.3.10_qbz5n2kfra8p0\\localcache\\local-packages\\python310\\site-packages (from chromadb==0.4.15) (4.66.1)\n",
      "Requirement already satisfied: pydantic>=1.9 in c:\\users\\natha\\appdata\\local\\packages\\pythonsoftwarefoundation.python.3.10_qbz5n2kfra8p0\\localcache\\local-packages\\python310\\site-packages (from chromadb==0.4.15) (2.5.2)\n",
      "Requirement already satisfied: tenacity>=8.2.3 in c:\\users\\natha\\appdata\\local\\packages\\pythonsoftwarefoundation.python.3.10_qbz5n2kfra8p0\\localcache\\local-packages\\python310\\site-packages (from chromadb==0.4.15) (8.2.3)\n",
      "Requirement already satisfied: typing-extensions>=4.5.0 in c:\\users\\natha\\appdata\\local\\packages\\pythonsoftwarefoundation.python.3.10_qbz5n2kfra8p0\\localcache\\local-packages\\python310\\site-packages (from chromadb==0.4.15) (4.8.0)\n",
      "Requirement already satisfied: opentelemetry-api>=1.2.0 in c:\\users\\natha\\appdata\\local\\packages\\pythonsoftwarefoundation.python.3.10_qbz5n2kfra8p0\\localcache\\local-packages\\python310\\site-packages (from chromadb==0.4.15) (1.21.0)\n",
      "Requirement already satisfied: uvicorn[standard]>=0.18.3 in c:\\users\\natha\\appdata\\local\\packages\\pythonsoftwarefoundation.python.3.10_qbz5n2kfra8p0\\localcache\\local-packages\\python310\\site-packages (from chromadb==0.4.15) (0.24.0.post1)\n",
      "Requirement already satisfied: fastapi>=0.95.2 in c:\\users\\natha\\appdata\\local\\packages\\pythonsoftwarefoundation.python.3.10_qbz5n2kfra8p0\\localcache\\local-packages\\python310\\site-packages (from chromadb==0.4.15) (0.104.1)\n",
      "Requirement already satisfied: overrides>=7.3.1 in c:\\users\\natha\\appdata\\local\\packages\\pythonsoftwarefoundation.python.3.10_qbz5n2kfra8p0\\localcache\\local-packages\\python310\\site-packages (from chromadb==0.4.15) (7.4.0)\n",
      "Requirement already satisfied: bcrypt>=4.0.1 in c:\\users\\natha\\appdata\\local\\packages\\pythonsoftwarefoundation.python.3.10_qbz5n2kfra8p0\\localcache\\local-packages\\python310\\site-packages (from chromadb==0.4.15) (4.1.1)\n",
      "Requirement already satisfied: onnxruntime>=1.14.1 in c:\\users\\natha\\appdata\\local\\packages\\pythonsoftwarefoundation.python.3.10_qbz5n2kfra8p0\\localcache\\local-packages\\python310\\site-packages (from chromadb==0.4.15) (1.16.3)\n",
      "Requirement already satisfied: tokenizers>=0.13.2 in c:\\users\\natha\\appdata\\local\\packages\\pythonsoftwarefoundation.python.3.10_qbz5n2kfra8p0\\localcache\\local-packages\\python310\\site-packages (from chromadb==0.4.15) (0.15.0)\n",
      "Requirement already satisfied: grpcio>=1.58.0 in c:\\users\\natha\\appdata\\local\\packages\\pythonsoftwarefoundation.python.3.10_qbz5n2kfra8p0\\localcache\\local-packages\\python310\\site-packages (from chromadb==0.4.15) (1.59.3)\n",
      "Requirement already satisfied: pypika>=0.48.9 in c:\\users\\natha\\appdata\\local\\packages\\pythonsoftwarefoundation.python.3.10_qbz5n2kfra8p0\\localcache\\local-packages\\python310\\site-packages (from chromadb==0.4.15) (0.48.9)\n",
      "Requirement already satisfied: opentelemetry-exporter-otlp-proto-grpc>=1.2.0 in c:\\users\\natha\\appdata\\local\\packages\\pythonsoftwarefoundation.python.3.10_qbz5n2kfra8p0\\localcache\\local-packages\\python310\\site-packages (from chromadb==0.4.15) (1.21.0)\n",
      "Requirement already satisfied: posthog>=2.4.0 in c:\\users\\natha\\appdata\\local\\packages\\pythonsoftwarefoundation.python.3.10_qbz5n2kfra8p0\\localcache\\local-packages\\python310\\site-packages (from chromadb==0.4.15) (3.1.0)\n",
      "Requirement already satisfied: pulsar-client>=3.1.0 in c:\\users\\natha\\appdata\\local\\packages\\pythonsoftwarefoundation.python.3.10_qbz5n2kfra8p0\\localcache\\local-packages\\python310\\site-packages (from chromadb==0.4.15) (3.3.0)\n",
      "Requirement already satisfied: requests>=2.28 in c:\\users\\natha\\appdata\\local\\packages\\pythonsoftwarefoundation.python.3.10_qbz5n2kfra8p0\\localcache\\local-packages\\python310\\site-packages (from chromadb==0.4.15) (2.28.1)\n",
      "Requirement already satisfied: typer>=0.9.0 in c:\\users\\natha\\appdata\\local\\packages\\pythonsoftwarefoundation.python.3.10_qbz5n2kfra8p0\\localcache\\local-packages\\python310\\site-packages (from chromadb==0.4.15) (0.9.0)\n",
      "Requirement already satisfied: importlib-resources in c:\\users\\natha\\appdata\\local\\packages\\pythonsoftwarefoundation.python.3.10_qbz5n2kfra8p0\\localcache\\local-packages\\python310\\site-packages (from chromadb==0.4.15) (6.1.1)\n",
      "Requirement already satisfied: starlette<0.28.0,>=0.27.0 in c:\\users\\natha\\appdata\\local\\packages\\pythonsoftwarefoundation.python.3.10_qbz5n2kfra8p0\\localcache\\local-packages\\python310\\site-packages (from fastapi>=0.95.2->chromadb==0.4.15) (0.27.0)\n",
      "Requirement already satisfied: anyio<4.0.0,>=3.7.1 in c:\\users\\natha\\appdata\\local\\packages\\pythonsoftwarefoundation.python.3.10_qbz5n2kfra8p0\\localcache\\local-packages\\python310\\site-packages (from fastapi>=0.95.2->chromadb==0.4.15) (3.7.1)\n",
      "Requirement already satisfied: six>=1.9.0 in c:\\users\\natha\\appdata\\local\\packages\\pythonsoftwarefoundation.python.3.10_qbz5n2kfra8p0\\localcache\\local-packages\\python310\\site-packages (from kubernetes>=28.1.0->chromadb==0.4.15) (1.16.0)\n",
      "Requirement already satisfied: certifi>=14.05.14 in c:\\users\\natha\\appdata\\local\\packages\\pythonsoftwarefoundation.python.3.10_qbz5n2kfra8p0\\localcache\\local-packages\\python310\\site-packages (from kubernetes>=28.1.0->chromadb==0.4.15) (2022.9.24)\n",
      "Requirement already satisfied: websocket-client!=0.40.0,!=0.41.*,!=0.42.*,>=0.32.0 in c:\\users\\natha\\appdata\\local\\packages\\pythonsoftwarefoundation.python.3.10_qbz5n2kfra8p0\\localcache\\local-packages\\python310\\site-packages (from kubernetes>=28.1.0->chromadb==0.4.15) (1.7.0)\n",
      "Requirement already satisfied: python-dateutil>=2.5.3 in c:\\users\\natha\\appdata\\local\\packages\\pythonsoftwarefoundation.python.3.10_qbz5n2kfra8p0\\localcache\\local-packages\\python310\\site-packages (from kubernetes>=28.1.0->chromadb==0.4.15) (2.8.2)\n",
      "Requirement already satisfied: urllib3<2.0,>=1.24.2 in c:\\users\\natha\\appdata\\local\\packages\\pythonsoftwarefoundation.python.3.10_qbz5n2kfra8p0\\localcache\\local-packages\\python310\\site-packages (from kubernetes>=28.1.0->chromadb==0.4.15) (1.26.12)\n",
      "Requirement already satisfied: google-auth>=1.0.1 in c:\\users\\natha\\appdata\\local\\packages\\pythonsoftwarefoundation.python.3.10_qbz5n2kfra8p0\\localcache\\local-packages\\python310\\site-packages (from kubernetes>=28.1.0->chromadb==0.4.15) (2.14.0)\n",
      "Requirement already satisfied: pyyaml>=5.4.1 in c:\\users\\natha\\appdata\\local\\packages\\pythonsoftwarefoundation.python.3.10_qbz5n2kfra8p0\\localcache\\local-packages\\python310\\site-packages (from kubernetes>=28.1.0->chromadb==0.4.15) (6.0)\n",
      "Requirement already satisfied: requests-oauthlib in c:\\users\\natha\\appdata\\local\\packages\\pythonsoftwarefoundation.python.3.10_qbz5n2kfra8p0\\localcache\\local-packages\\python310\\site-packages (from kubernetes>=28.1.0->chromadb==0.4.15) (1.3.1)\n",
      "Requirement already satisfied: oauthlib>=3.2.2 in c:\\users\\natha\\appdata\\local\\packages\\pythonsoftwarefoundation.python.3.10_qbz5n2kfra8p0\\localcache\\local-packages\\python310\\site-packages (from kubernetes>=28.1.0->chromadb==0.4.15) (3.2.2)\n",
      "Requirement already satisfied: flatbuffers in c:\\users\\natha\\appdata\\local\\packages\\pythonsoftwarefoundation.python.3.10_qbz5n2kfra8p0\\localcache\\local-packages\\python310\\site-packages (from onnxruntime>=1.14.1->chromadb==0.4.15) (22.10.26)\n",
      "Requirement already satisfied: sympy in c:\\users\\natha\\appdata\\local\\packages\\pythonsoftwarefoundation.python.3.10_qbz5n2kfra8p0\\localcache\\local-packages\\python310\\site-packages (from onnxruntime>=1.14.1->chromadb==0.4.15) (1.12)\n",
      "Requirement already satisfied: protobuf in c:\\users\\natha\\appdata\\local\\packages\\pythonsoftwarefoundation.python.3.10_qbz5n2kfra8p0\\localcache\\local-packages\\python310\\site-packages (from onnxruntime>=1.14.1->chromadb==0.4.15) (3.19.6)\n",
      "Requirement already satisfied: packaging in c:\\users\\natha\\appdata\\local\\packages\\pythonsoftwarefoundation.python.3.10_qbz5n2kfra8p0\\localcache\\local-packages\\python310\\site-packages (from onnxruntime>=1.14.1->chromadb==0.4.15) (21.3)\n",
      "Requirement already satisfied: coloredlogs in c:\\users\\natha\\appdata\\local\\packages\\pythonsoftwarefoundation.python.3.10_qbz5n2kfra8p0\\localcache\\local-packages\\python310\\site-packages (from onnxruntime>=1.14.1->chromadb==0.4.15) (15.0.1)\n",
      "Requirement already satisfied: importlib-metadata<7.0,>=6.0 in c:\\users\\natha\\appdata\\local\\packages\\pythonsoftwarefoundation.python.3.10_qbz5n2kfra8p0\\localcache\\local-packages\\python310\\site-packages (from opentelemetry-api>=1.2.0->chromadb==0.4.15) (6.11.0)\n",
      "Requirement already satisfied: deprecated>=1.2.6 in c:\\users\\natha\\appdata\\local\\packages\\pythonsoftwarefoundation.python.3.10_qbz5n2kfra8p0\\localcache\\local-packages\\python310\\site-packages (from opentelemetry-api>=1.2.0->chromadb==0.4.15) (1.2.14)\n",
      "Requirement already satisfied: opentelemetry-exporter-otlp-proto-common==1.21.0 in c:\\users\\natha\\appdata\\local\\packages\\pythonsoftwarefoundation.python.3.10_qbz5n2kfra8p0\\localcache\\local-packages\\python310\\site-packages (from opentelemetry-exporter-otlp-proto-grpc>=1.2.0->chromadb==0.4.15) (1.21.0)\n",
      "Requirement already satisfied: opentelemetry-proto==1.21.0 in c:\\users\\natha\\appdata\\local\\packages\\pythonsoftwarefoundation.python.3.10_qbz5n2kfra8p0\\localcache\\local-packages\\python310\\site-packages (from opentelemetry-exporter-otlp-proto-grpc>=1.2.0->chromadb==0.4.15) (1.21.0)\n",
      "Requirement already satisfied: googleapis-common-protos~=1.52 in c:\\users\\natha\\appdata\\local\\packages\\pythonsoftwarefoundation.python.3.10_qbz5n2kfra8p0\\localcache\\local-packages\\python310\\site-packages (from opentelemetry-exporter-otlp-proto-grpc>=1.2.0->chromadb==0.4.15) (1.61.0)\n",
      "Requirement already satisfied: backoff<3.0.0,>=1.10.0 in c:\\users\\natha\\appdata\\local\\packages\\pythonsoftwarefoundation.python.3.10_qbz5n2kfra8p0\\localcache\\local-packages\\python310\\site-packages (from opentelemetry-exporter-otlp-proto-grpc>=1.2.0->chromadb==0.4.15) (2.2.1)\n",
      "Requirement already satisfied: opentelemetry-semantic-conventions==0.42b0 in c:\\users\\natha\\appdata\\local\\packages\\pythonsoftwarefoundation.python.3.10_qbz5n2kfra8p0\\localcache\\local-packages\\python310\\site-packages (from opentelemetry-sdk>=1.2.0->chromadb==0.4.15) (0.42b0)\n",
      "Requirement already satisfied: monotonic>=1.5 in c:\\users\\natha\\appdata\\local\\packages\\pythonsoftwarefoundation.python.3.10_qbz5n2kfra8p0\\localcache\\local-packages\\python310\\site-packages (from posthog>=2.4.0->chromadb==0.4.15) (1.6)\n",
      "Requirement already satisfied: annotated-types>=0.4.0 in c:\\users\\natha\\appdata\\local\\packages\\pythonsoftwarefoundation.python.3.10_qbz5n2kfra8p0\\localcache\\local-packages\\python310\\site-packages (from pydantic>=1.9->chromadb==0.4.15) (0.6.0)\n",
      "Requirement already satisfied: pydantic-core==2.14.5 in c:\\users\\natha\\appdata\\local\\packages\\pythonsoftwarefoundation.python.3.10_qbz5n2kfra8p0\\localcache\\local-packages\\python310\\site-packages (from pydantic>=1.9->chromadb==0.4.15) (2.14.5)\n",
      "Requirement already satisfied: charset-normalizer<3,>=2 in c:\\users\\natha\\appdata\\local\\packages\\pythonsoftwarefoundation.python.3.10_qbz5n2kfra8p0\\localcache\\local-packages\\python310\\site-packages (from requests>=2.28->chromadb==0.4.15) (2.1.1)\n",
      "Requirement already satisfied: idna<4,>=2.5 in c:\\users\\natha\\appdata\\local\\packages\\pythonsoftwarefoundation.python.3.10_qbz5n2kfra8p0\\localcache\\local-packages\\python310\\site-packages (from requests>=2.28->chromadb==0.4.15) (3.4)\n",
      "Requirement already satisfied: huggingface_hub<1.0,>=0.16.4 in c:\\users\\natha\\appdata\\local\\packages\\pythonsoftwarefoundation.python.3.10_qbz5n2kfra8p0\\localcache\\local-packages\\python310\\site-packages (from tokenizers>=0.13.2->chromadb==0.4.15) (0.16.4)\n",
      "Requirement already satisfied: colorama in c:\\users\\natha\\appdata\\local\\packages\\pythonsoftwarefoundation.python.3.10_qbz5n2kfra8p0\\localcache\\local-packages\\python310\\site-packages (from tqdm>=4.65.0->chromadb==0.4.15) (0.4.6)\n",
      "Requirement already satisfied: click<9.0.0,>=7.1.1 in c:\\users\\natha\\appdata\\local\\packages\\pythonsoftwarefoundation.python.3.10_qbz5n2kfra8p0\\localcache\\local-packages\\python310\\site-packages (from typer>=0.9.0->chromadb==0.4.15) (8.1.3)\n",
      "Requirement already satisfied: h11>=0.8 in c:\\users\\natha\\appdata\\local\\packages\\pythonsoftwarefoundation.python.3.10_qbz5n2kfra8p0\\localcache\\local-packages\\python310\\site-packages (from uvicorn[standard]>=0.18.3->chromadb==0.4.15) (0.14.0)\n",
      "Requirement already satisfied: websockets>=10.4 in c:\\users\\natha\\appdata\\local\\packages\\pythonsoftwarefoundation.python.3.10_qbz5n2kfra8p0\\localcache\\local-packages\\python310\\site-packages (from uvicorn[standard]>=0.18.3->chromadb==0.4.15) (11.0.3)\n",
      "Requirement already satisfied: httptools>=0.5.0 in c:\\users\\natha\\appdata\\local\\packages\\pythonsoftwarefoundation.python.3.10_qbz5n2kfra8p0\\localcache\\local-packages\\python310\\site-packages (from uvicorn[standard]>=0.18.3->chromadb==0.4.15) (0.6.1)\n",
      "Requirement already satisfied: watchfiles>=0.13 in c:\\users\\natha\\appdata\\local\\packages\\pythonsoftwarefoundation.python.3.10_qbz5n2kfra8p0\\localcache\\local-packages\\python310\\site-packages (from uvicorn[standard]>=0.18.3->chromadb==0.4.15) (0.21.0)\n",
      "Requirement already satisfied: python-dotenv>=0.13 in c:\\users\\natha\\appdata\\local\\packages\\pythonsoftwarefoundation.python.3.10_qbz5n2kfra8p0\\localcache\\local-packages\\python310\\site-packages (from uvicorn[standard]>=0.18.3->chromadb==0.4.15) (1.0.0)\n",
      "Requirement already satisfied: sniffio>=1.1 in c:\\users\\natha\\appdata\\local\\packages\\pythonsoftwarefoundation.python.3.10_qbz5n2kfra8p0\\localcache\\local-packages\\python310\\site-packages (from anyio<4.0.0,>=3.7.1->fastapi>=0.95.2->chromadb==0.4.15) (1.3.0)\n",
      "Requirement already satisfied: exceptiongroup in c:\\users\\natha\\appdata\\local\\packages\\pythonsoftwarefoundation.python.3.10_qbz5n2kfra8p0\\localcache\\local-packages\\python310\\site-packages (from anyio<4.0.0,>=3.7.1->fastapi>=0.95.2->chromadb==0.4.15) (1.2.0)\n",
      "Requirement already satisfied: wrapt<2,>=1.10 in c:\\users\\natha\\appdata\\local\\packages\\pythonsoftwarefoundation.python.3.10_qbz5n2kfra8p0\\localcache\\local-packages\\python310\\site-packages (from deprecated>=1.2.6->opentelemetry-api>=1.2.0->chromadb==0.4.15) (1.14.1)\n",
      "Requirement already satisfied: pyasn1-modules>=0.2.1 in c:\\users\\natha\\appdata\\local\\packages\\pythonsoftwarefoundation.python.3.10_qbz5n2kfra8p0\\localcache\\local-packages\\python310\\site-packages (from google-auth>=1.0.1->kubernetes>=28.1.0->chromadb==0.4.15) (0.2.8)\n",
      "Requirement already satisfied: rsa<5,>=3.1.4 in c:\\users\\natha\\appdata\\local\\packages\\pythonsoftwarefoundation.python.3.10_qbz5n2kfra8p0\\localcache\\local-packages\\python310\\site-packages (from google-auth>=1.0.1->kubernetes>=28.1.0->chromadb==0.4.15) (4.9)\n",
      "Requirement already satisfied: cachetools<6.0,>=2.0.0 in c:\\users\\natha\\appdata\\local\\packages\\pythonsoftwarefoundation.python.3.10_qbz5n2kfra8p0\\localcache\\local-packages\\python310\\site-packages (from google-auth>=1.0.1->kubernetes>=28.1.0->chromadb==0.4.15) (5.2.0)\n",
      "Requirement already satisfied: filelock in c:\\users\\natha\\appdata\\local\\packages\\pythonsoftwarefoundation.python.3.10_qbz5n2kfra8p0\\localcache\\local-packages\\python310\\site-packages (from huggingface_hub<1.0,>=0.16.4->tokenizers>=0.13.2->chromadb==0.4.15) (3.9.0)\n",
      "Requirement already satisfied: fsspec in c:\\users\\natha\\appdata\\local\\packages\\pythonsoftwarefoundation.python.3.10_qbz5n2kfra8p0\\localcache\\local-packages\\python310\\site-packages (from huggingface_hub<1.0,>=0.16.4->tokenizers>=0.13.2->chromadb==0.4.15) (2023.6.0)\n",
      "Requirement already satisfied: zipp>=0.5 in c:\\users\\natha\\appdata\\local\\packages\\pythonsoftwarefoundation.python.3.10_qbz5n2kfra8p0\\localcache\\local-packages\\python310\\site-packages (from importlib-metadata<7.0,>=6.0->opentelemetry-api>=1.2.0->chromadb==0.4.15) (3.17.0)\n",
      "Requirement already satisfied: pyparsing!=3.0.5,>=2.0.2 in c:\\users\\natha\\appdata\\local\\packages\\pythonsoftwarefoundation.python.3.10_qbz5n2kfra8p0\\localcache\\local-packages\\python310\\site-packages (from packaging->onnxruntime>=1.14.1->chromadb==0.4.15) (3.0.9)\n",
      "Requirement already satisfied: humanfriendly>=9.1 in c:\\users\\natha\\appdata\\local\\packages\\pythonsoftwarefoundation.python.3.10_qbz5n2kfra8p0\\localcache\\local-packages\\python310\\site-packages (from coloredlogs->onnxruntime>=1.14.1->chromadb==0.4.15) (10.0)\n",
      "Requirement already satisfied: mpmath>=0.19 in c:\\users\\natha\\appdata\\local\\packages\\pythonsoftwarefoundation.python.3.10_qbz5n2kfra8p0\\localcache\\local-packages\\python310\\site-packages (from sympy->onnxruntime>=1.14.1->chromadb==0.4.15) (1.3.0)\n",
      "Requirement already satisfied: pyreadline3 in c:\\users\\natha\\appdata\\local\\packages\\pythonsoftwarefoundation.python.3.10_qbz5n2kfra8p0\\localcache\\local-packages\\python310\\site-packages (from humanfriendly>=9.1->coloredlogs->onnxruntime>=1.14.1->chromadb==0.4.15) (3.4.1)\n",
      "Requirement already satisfied: pyasn1<0.5.0,>=0.4.6 in c:\\users\\natha\\appdata\\local\\packages\\pythonsoftwarefoundation.python.3.10_qbz5n2kfra8p0\\localcache\\local-packages\\python310\\site-packages (from pyasn1-modules>=0.2.1->google-auth>=1.0.1->kubernetes>=28.1.0->chromadb==0.4.15) (0.4.8)\n",
      "Note: you may need to restart the kernel to use updated packages.\n"
     ]
    },
    {
     "name": "stderr",
     "output_type": "stream",
     "text": [
      "\n",
      "[notice] A new release of pip is available: 23.0.1 -> 23.3.1\n",
      "[notice] To update, run: C:\\Users\\natha\\AppData\\Local\\Microsoft\\WindowsApps\\PythonSoftwareFoundation.Python.3.10_qbz5n2kfra8p0\\python.exe -m pip install --upgrade pip\n"
     ]
    },
    {
     "name": "stdout",
     "output_type": "stream",
     "text": [
      "Collecting langchainhubNote: you may need to restart the kernel to use updated packages.\n",
      "\n",
      "  Downloading langchainhub-0.1.14-py3-none-any.whl (3.4 kB)\n",
      "Requirement already satisfied: requests<3,>=2 in c:\\users\\natha\\appdata\\local\\packages\\pythonsoftwarefoundation.python.3.10_qbz5n2kfra8p0\\localcache\\local-packages\\python310\\site-packages (from langchainhub) (2.28.1)\n",
      "Collecting types-requests<3.0.0.0,>=2.31.0.2\n",
      "  Downloading types_requests-2.31.0.10-py3-none-any.whl (14 kB)\n",
      "Requirement already satisfied: urllib3<1.27,>=1.21.1 in c:\\users\\natha\\appdata\\local\\packages\\pythonsoftwarefoundation.python.3.10_qbz5n2kfra8p0\\localcache\\local-packages\\python310\\site-packages (from requests<3,>=2->langchainhub) (1.26.12)\n",
      "Requirement already satisfied: certifi>=2017.4.17 in c:\\users\\natha\\appdata\\local\\packages\\pythonsoftwarefoundation.python.3.10_qbz5n2kfra8p0\\localcache\\local-packages\\python310\\site-packages (from requests<3,>=2->langchainhub) (2022.9.24)\n",
      "Requirement already satisfied: charset-normalizer<3,>=2 in c:\\users\\natha\\appdata\\local\\packages\\pythonsoftwarefoundation.python.3.10_qbz5n2kfra8p0\\localcache\\local-packages\\python310\\site-packages (from requests<3,>=2->langchainhub) (2.1.1)\n",
      "Requirement already satisfied: idna<4,>=2.5 in c:\\users\\natha\\appdata\\local\\packages\\pythonsoftwarefoundation.python.3.10_qbz5n2kfra8p0\\localcache\\local-packages\\python310\\site-packages (from requests<3,>=2->langchainhub) (3.4)\n",
      "  Downloading types_requests-2.31.0.9-py3-none-any.whl (14 kB)\n",
      "  Downloading types_requests-2.31.0.8-py3-none-any.whl (14 kB)\n",
      "  Downloading types_requests-2.31.0.7-py3-none-any.whl (14 kB)\n",
      "  Downloading types_requests-2.31.0.6-py3-none-any.whl (14 kB)\n",
      "Collecting types-urllib3\n",
      "  Downloading types_urllib3-1.26.25.14-py3-none-any.whl (15 kB)\n",
      "Installing collected packages: types-urllib3, types-requests, langchainhub\n",
      "Successfully installed langchainhub-0.1.14 types-requests-2.31.0.6 types-urllib3-1.26.25.14\n"
     ]
    },
    {
     "name": "stderr",
     "output_type": "stream",
     "text": [
      "\n",
      "[notice] A new release of pip is available: 23.0.1 -> 23.3.1\n",
      "[notice] To update, run: C:\\Users\\natha\\AppData\\Local\\Microsoft\\WindowsApps\\PythonSoftwareFoundation.Python.3.10_qbz5n2kfra8p0\\python.exe -m pip install --upgrade pip\n"
     ]
    }
   ],
   "source": [
    "%pip install chromadb==0.4.15\n",
    "%pip install langchainhub"
   ]
  },
  {
   "cell_type": "code",
   "execution_count": 2,
   "metadata": {},
   "outputs": [],
   "source": [
    "import getpass\n",
    "openai_api_key = getpass.getpass('Enter OpenAI API key:')"
   ]
  },
  {
   "cell_type": "code",
   "execution_count": 5,
   "metadata": {},
   "outputs": [],
   "source": [
    "from langchain import hub\n",
    "from langchain.chat_models import ChatOpenAI\n",
    "from langchain.document_loaders import CSVLoader\n",
    "from langchain.embeddings import OpenAIEmbeddings\n",
    "from langchain.schema import StrOutputParser\n",
    "from langchain.schema.runnable import RunnablePassthrough\n",
    "from langchain.text_splitter import RecursiveCharacterTextSplitter\n",
    "from langchain.vectorstores import Chroma"
   ]
  },
  {
   "cell_type": "code",
   "execution_count": 6,
   "metadata": {},
   "outputs": [],
   "source": [
    "loader = CSVLoader(file_path='chunk_text_db.csv', csv_args={\n",
    "    'delimiter': ',',\n",
    "    'quotechar': '\"',\n",
    "    'fieldnames': ['transcript', 'location']\n",
    "})\n",
    "data = loader.load()"
   ]
  },
  {
   "cell_type": "code",
   "execution_count": 7,
   "metadata": {},
   "outputs": [
    {
     "name": "stdout",
     "output_type": "stream",
     "text": [
      "[Document(page_content='transcript: transcript\\nlocation: location', metadata={'source': 'chunk_text_db.csv', 'row': 0}), Document(page_content='transcript: the Gospel according to Mark. Chapter 1\\nlocation: mark1-0.mp3', metadata={'source': 'chunk_text_db.csv', 'row': 1}), Document(page_content=\"transcript: the beginning of the gospel of Jesus Christ, the Son of God. As it is written in Isaiah the prophet, behold I send my messenger before your face, who will prepare your way, the voice of one crying in the wilderness, prepare the way of the Lord, make His paths straight. John appeared, baptizing in the wilderness and proclaiming a baptism of repentance for the forgiveness of sins, and all the country of Judea and all Jerusalem were going out to Him and were being baptized by Him in the river Jordan, confessing their sins. Now John was clothed with camel's hair and wore a leather belt around his waist and ate locusts and wild honey, and he preached, saying, after me comes He who is mightier than I, the strap of whose sandals I am not worthy to stoop down and untie. I have baptized you with water, but He will baptize you with a holy spirit. In those days Jesus came from Nazareth of Galilee and was baptized by John in the Jordan. And when He came up out of the water, immediately He saw the heavens being torn open and the spirit descending on Him like a dove, and a voice came from heaven. You are my beloved Son, with you I am well pleased. The spirit immediately drove Him out into the wilderness, and He was in the wilderness for forty days, being tempted by Satan. And He was with the wild animals and the angels were ministering to Him.\\nlocation: mark1-1.mp3\", metadata={'source': 'chunk_text_db.csv', 'row': 2}), Document(page_content='transcript: Now after John was arrested, Jesus came into Galilee, proclaiming the gospel of God and saying, the time is fulfilled. And the kingdom of God is at hand. Repent and believe in the gospel.\\nlocation: mark1-2.mp3', metadata={'source': 'chunk_text_db.csv', 'row': 3}), Document(page_content='transcript: Passing alongside the sea of Galilee, he saw Simon and Andrew the brother of Simon casting a net into the sea for they were fishermen. And Jesus said to them, ï¿½Follow me, and I will make you become fishers of men.ï¿½ And immediately they left their nets and followed him. And going on a little farther, he saw James, the son of Zebedee, and John his brother, who were in their boat mending the nets. And immediately he called them, and they left their father Zebedee in the boat with the hired servants, and followed him. And they went into Capernaum, and immediately on the Sabbath he entered the synagogue and was teaching. And they were astonished at his teaching, for he taught them as one who had authority, and not as describes. And immediately there was in their synagogue a man with an unclean spirit. And he cried out, ï¿½What have you to do with us, Jesus of Nazareth? Have you come to destroy us? I know who you are, the Holy One of God.ï¿½\\nlocation: mark1-3.mp3', metadata={'source': 'chunk_text_db.csv', 'row': 4}), Document(page_content=\"transcript: Jesus rebuked him saying, be silent and come out of him. And the unclean spirit convulsing him and crying out with a loud voice came out of him. And they were all amazed so that they questioned among themselves saying, what is this? A new teaching with authority. He commands even the unclean spirits and they obey him. And at once his fame spread everywhere throughout all the surrounding region of Galilee. Immediately he left the synagogue and entered the house of Simon and Andrew with James and John. Now Simon's mother-in-law lay ill with a fever and immediately they told him about her. And he came and took her by the hand and lifted her up and the fever left her and she began to serve him.\\nlocation: mark1-4.mp3\", metadata={'source': 'chunk_text_db.csv', 'row': 5}), Document(page_content='transcript: that evening at sundown they brought to him all who were sick or oppressed by demons. And the whole city was gathered together at the door, and he healed many who were sick with various diseases and cast out many demons. And he would not permit the demons to speak because they knew him. And rising very early in the morning while it was still dark, he departed and went out to a desolate place, and there he prayed. And Simon and those who were with him searched for him, and they found him and said to him, everyone is looking for you. And he said to them, let us go on to the next towns, that I may preach there also for that is why I came out.\\nlocation: mark1-5.mp3', metadata={'source': 'chunk_text_db.csv', 'row': 6}), Document(page_content='transcript: and he went throughout all Galilee, preaching in their synagogues and casting out demons.\\nlocation: mark1-6.mp3', metadata={'source': 'chunk_text_db.csv', 'row': 7}), Document(page_content='transcript: And a leper came to him, imploring him, and kneeling said to him, If you will, you can make me clean.\\nlocation: mark1-7.mp3', metadata={'source': 'chunk_text_db.csv', 'row': 8}), Document(page_content='transcript: moved with pity. He stretched out his hand and touched him and said to him, I will. Be clean. And immediately the leprosy left him and he was made clean. And Jesus sternly charged him and sent him away at once and said to him, see that you say nothing to anyone, but go, show yourself to the priest and offer for your cleansing what Moses commanded for a proof to them.\\nlocation: mark1-8.mp3', metadata={'source': 'chunk_text_db.csv', 'row': 9}), Document(page_content='transcript: But he went out and began to talk freely about it, and to spread the news, so that Jesus could no longer openly enter a town, but was out in desolate places and people were coming to him from every quarter.\\nlocation: mark1-9.mp3', metadata={'source': 'chunk_text_db.csv', 'row': 10})]\n"
     ]
    }
   ],
   "source": [
    "print(data)"
   ]
  },
  {
   "cell_type": "code",
   "execution_count": 8,
   "metadata": {},
   "outputs": [
    {
     "data": {
      "text/plain": [
       "'transcript: the Gospel according to Mark. Chapter 1\\nlocation: mark1-0.mp3'"
      ]
     },
     "execution_count": 8,
     "metadata": {},
     "output_type": "execute_result"
    }
   ],
   "source": [
    "data[1].page_content"
   ]
  },
  {
   "cell_type": "code",
   "execution_count": 9,
   "metadata": {},
   "outputs": [],
   "source": [
    "vectorstore = Chroma.from_documents(documents=data, \n",
    "                                    embedding=OpenAIEmbeddings(openai_api_key=openai_api_key))"
   ]
  },
  {
   "cell_type": "code",
   "execution_count": 10,
   "metadata": {},
   "outputs": [],
   "source": [
    "retriever = vectorstore.as_retriever()"
   ]
  },
  {
   "cell_type": "markdown",
   "metadata": {},
   "source": [
    "## Retrieve Relevant Audio"
   ]
  },
  {
   "cell_type": "code",
   "execution_count": 20,
   "metadata": {},
   "outputs": [
    {
     "name": "stdout",
     "output_type": "stream",
     "text": [
      "4\n",
      "transcript: Passing alongside the sea of Galilee, he saw Simon and Andrew the brother of Simon casting a net into the sea for they were fishermen. And Jesus said to them, ï¿½Follow me, and I will make you become fishers of men.ï¿½ And immediately they left their nets and followed him. And going on a little farther, he saw James, the son of Zebedee, and John his brother, who were in their boat mending the nets. And immediately he called them, and they left their father Zebedee in the boat with the hired servants, and followed him. And they went into Capernaum, and immediately on the Sabbath he entered the synagogue and was teaching. And they were astonished at his teaching, for he taught them as one who had authority, and not as describes. And immediately there was in their synagogue a man with an unclean spirit. And he cried out, ï¿½What have you to do with us, Jesus of Nazareth? Have you come to destroy us? I know who you are, the Holy One of God.ï¿½\n",
      "location: mark1-3.mp3\n"
     ]
    }
   ],
   "source": [
    "retrieved_docs = retriever.get_relevant_documents(\n",
    "    \"Who was the brother of Andrew?\"\n",
    ")\n",
    "print(len(retrieved_docs))\n",
    "print(retrieved_docs[0].page_content)"
   ]
  },
  {
   "cell_type": "code",
   "execution_count": null,
   "metadata": {},
   "outputs": [],
   "source": [
    "#TODO: extract location & return that audio file as output"
   ]
  },
  {
   "cell_type": "markdown",
   "metadata": {},
   "source": [
    "## QA"
   ]
  },
  {
   "cell_type": "code",
   "execution_count": 19,
   "metadata": {},
   "outputs": [],
   "source": [
    "prompt = hub.pull(\"rlm/rag-prompt\")\n",
    "llm = ChatOpenAI(model_name=\"gpt-3.5-turbo\", temperature=0, openai_api_key=openai_api_key)"
   ]
  },
  {
   "cell_type": "code",
   "execution_count": 15,
   "metadata": {},
   "outputs": [],
   "source": [
    "def format_docs(docs):\n",
    "    return \"\\n\\n\".join(doc.page_content for doc in docs)\n"
   ]
  },
  {
   "cell_type": "code",
   "execution_count": 16,
   "metadata": {},
   "outputs": [],
   "source": [
    "rag_chain = (\n",
    "    {\"context\": retriever | format_docs, \"question\": RunnablePassthrough()}\n",
    "    | prompt\n",
    "    | llm\n",
    "    | StrOutputParser()\n",
    ")"
   ]
  },
  {
   "cell_type": "code",
   "execution_count": 17,
   "metadata": {},
   "outputs": [
    {
     "data": {
      "text/plain": [
       "'The brother of Andrew was Simon.'"
      ]
     },
     "execution_count": 17,
     "metadata": {},
     "output_type": "execute_result"
    }
   ],
   "source": [
    "rag_chain.invoke(\"Who was the brother of Andrew?\")"
   ]
  }
 ],
 "metadata": {
  "kernelspec": {
   "display_name": "Python 3",
   "language": "python",
   "name": "python3"
  },
  "language_info": {
   "codemirror_mode": {
    "name": "ipython",
    "version": 3
   },
   "file_extension": ".py",
   "mimetype": "text/x-python",
   "name": "python",
   "nbconvert_exporter": "python",
   "pygments_lexer": "ipython3",
   "version": "3.10.11"
  }
 },
 "nbformat": 4,
 "nbformat_minor": 2
}
