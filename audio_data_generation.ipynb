{
 "cells": [
  {
   "cell_type": "code",
   "execution_count": 1,
   "metadata": {},
   "outputs": [
    {
     "name": "stdout",
     "output_type": "stream",
     "text": [
      "Requirement already satisfied: pydub in c:\\users\\natha\\appdata\\local\\packages\\pythonsoftwarefoundation.python.3.10_qbz5n2kfra8p0\\localcache\\local-packages\\python310\\site-packages (0.25.1)\n",
      "Note: you may need to restart the kernel to use updated packages.\n"
     ]
    },
    {
     "name": "stderr",
     "output_type": "stream",
     "text": [
      "\n",
      "[notice] A new release of pip is available: 23.0.1 -> 23.3.1\n",
      "[notice] To update, run: C:\\Users\\natha\\AppData\\Local\\Microsoft\\WindowsApps\\PythonSoftwareFoundation.Python.3.10_qbz5n2kfra8p0\\python.exe -m pip install --upgrade pip\n"
     ]
    }
   ],
   "source": [
    "%pip install pydub"
   ]
  },
  {
   "cell_type": "code",
   "execution_count": 20,
   "metadata": {},
   "outputs": [],
   "source": [
    "from pydub import AudioSegment, silence\n",
    "from pydub.playback import play"
   ]
  },
  {
   "cell_type": "code",
   "execution_count": 39,
   "metadata": {},
   "outputs": [],
   "source": [
    "sample = AudioSegment.from_file('mark1.mp3', format=\"mp3\")"
   ]
  },
  {
   "cell_type": "code",
   "execution_count": 40,
   "metadata": {},
   "outputs": [
    {
     "data": {
      "text/plain": [
       "-16.224271953018604"
      ]
     },
     "execution_count": 40,
     "metadata": {},
     "output_type": "execute_result"
    }
   ],
   "source": [
    "sample.dBFS"
   ]
  },
  {
   "cell_type": "code",
   "execution_count": 41,
   "metadata": {},
   "outputs": [
    {
     "name": "stdout",
     "output_type": "stream",
     "text": [
      "[[1518, 3089], [3470, 5345], [7270, 7894], [8239, 9655], [11220, 12224], [14497, 15308], [16426, 17264], [19139, 20019], [22820, 24411], [24962, 25593], [30177, 31306], [33334, 34102], [37380, 38036], [38871, 40441], [42438, 43129], [44632, 45311], [46814, 47761], [48772, 49713], [51836, 52674], [55966, 57302], [58653, 59406], [61221, 62705], [64929, 65576], [67267, 68346], [69514, 70146], [72430, 73152], [75244, 76344], [77287, 78290], [79547, 80231], [81785, 83407], [85546, 87009], [87808, 88469], [88891, 89720], [90621, 91893], [94867, 96684], [97773, 98585], [99643, 100352], [102477, 103102], [104117, 104941], [106420, 107418], [108939, 111056], [112473, 113136], [116866, 117426], [117742, 119106], [119737, 121018], [121189, 122031], [123970, 125330], [127037, 127705], [128097, 129416], [133210, 133839], [135150, 136384], [140899, 141524], [141880, 143496], [144517, 145099], [146144, 146701], [148285, 149567], [151194, 151848], [153916, 154535], [155395, 156780], [158505, 159056], [160629, 161998], [162420, 163473], [166358, 167280], [168440, 169288], [170173, 170831], [171914, 173790], [175071, 176142], [176534, 177092], [177560, 178979], [179997, 180611], [183104, 183704], [183991, 185447], [188799, 189331], [189709, 190674], [192023, 192925], [195703, 197067], [201196, 202537], [205983, 206601], [207173, 208321], [210695, 211355], [212836, 213915], [215341, 215952], [216582, 217172], [217845, 218680], [219188, 220937], [223649, 224217], [224955, 226452], [228814, 229574], [231982, 232613], [233834, 234980], [236872, 237531], [237969, 239479], [241807, 242625], [244592, 245212], [245878, 247303], [248308, 248954], [249417, 249990], [251136, 251907], [252846, 254154], [254438, 255567], [256809, 257523], [258459, 259249], [260033, 261740], [263203, 263914], [264945, 265586], [266217, 267926], [271438, 272330], [272906, 273412], [274302, 275933], [276824, 277515], [280257, 282251], [282613, 283789], [287062, 288403], [289783, 290381], [291787, 293106], [294290, 295210], [297070, 297626], [300693, 302492], [304358, 304919], [306076, 306788], [309109, 309966], [311173, 311728], [313553, 317309]]\n"
     ]
    }
   ],
   "source": [
    "print(silence.detect_silence(sample, min_silence_len=500, silence_thresh=-22))"
   ]
  },
  {
   "cell_type": "code",
   "execution_count": 57,
   "metadata": {},
   "outputs": [
    {
     "data": {
      "text/plain": [
       "[<pydub.audio_segment.AudioSegment at 0x240c3621870>,\n",
       " <pydub.audio_segment.AudioSegment at 0x240c3623b20>,\n",
       " <pydub.audio_segment.AudioSegment at 0x240c3622110>,\n",
       " <pydub.audio_segment.AudioSegment at 0x240c3621c90>,\n",
       " <pydub.audio_segment.AudioSegment at 0x240c3623a90>,\n",
       " <pydub.audio_segment.AudioSegment at 0x240c3623b80>,\n",
       " <pydub.audio_segment.AudioSegment at 0x240c36229e0>,\n",
       " <pydub.audio_segment.AudioSegment at 0x240954cc130>,\n",
       " <pydub.audio_segment.AudioSegment at 0x24096652e00>,\n",
       " <pydub.audio_segment.AudioSegment at 0x240966527a0>]"
      ]
     },
     "execution_count": 57,
     "metadata": {},
     "output_type": "execute_result"
    }
   ],
   "source": [
    "new_files = silence.split_on_silence(sample, min_silence_len=1500, silence_thresh=-32)\n",
    "new_files"
   ]
  },
  {
   "cell_type": "code",
   "execution_count": 58,
   "metadata": {},
   "outputs": [
    {
     "data": {
      "text/plain": [
       "10"
      ]
     },
     "execution_count": 58,
     "metadata": {},
     "output_type": "execute_result"
    }
   ],
   "source": [
    "len(new_files)"
   ]
  },
  {
   "cell_type": "code",
   "execution_count": 59,
   "metadata": {},
   "outputs": [],
   "source": [
    "for i, chunk in enumerate(new_files):\n",
    "  with open(\"audio_chunks/mark1-%s.mp3\" % i, \"wb\") as f:\n",
    "    chunk.export(f, format=\"mp3\")"
   ]
  },
  {
   "cell_type": "code",
   "execution_count": 52,
   "metadata": {},
   "outputs": [],
   "source": [
    "import whisper\n",
    "import os"
   ]
  },
  {
   "cell_type": "code",
   "execution_count": 51,
   "metadata": {},
   "outputs": [],
   "source": [
    "def transcribe(audio_file):\n",
    "    model = whisper.load_model('base')\n",
    "    result = model.transcribe(audio_file)\n",
    "    return result['text']"
   ]
  },
  {
   "cell_type": "code",
   "execution_count": 65,
   "metadata": {},
   "outputs": [
    {
     "name": "stderr",
     "output_type": "stream",
     "text": [
      "C:\\Users\\natha\\AppData\\Local\\Packages\\PythonSoftwareFoundation.Python.3.10_qbz5n2kfra8p0\\LocalCache\\local-packages\\Python310\\site-packages\\whisper\\transcribe.py:115: UserWarning: FP16 is not supported on CPU; using FP32 instead\n",
      "  warnings.warn(\"FP16 is not supported on CPU; using FP32 instead\")\n"
     ]
    }
   ],
   "source": [
    "for filename in os.listdir('audio_chunks'):\n",
    "    f = os.path.join('audio_chunks', filename)\n",
    "    if os.path.isfile(f):\n",
    "        transcription = transcribe(f)\n",
    "        with open('chunk_text_db.csv', 'a', encoding='utf-8') as file:\n",
    "            entry = f'\"{transcription}\", {filename}\\n'\n",
    "            file.write(entry)"
   ]
  }
 ],
 "metadata": {
  "kernelspec": {
   "display_name": "Python 3",
   "language": "python",
   "name": "python3"
  },
  "language_info": {
   "codemirror_mode": {
    "name": "ipython",
    "version": 3
   },
   "file_extension": ".py",
   "mimetype": "text/x-python",
   "name": "python",
   "nbconvert_exporter": "python",
   "pygments_lexer": "ipython3",
   "version": "3.10.11"
  }
 },
 "nbformat": 4,
 "nbformat_minor": 2
}
